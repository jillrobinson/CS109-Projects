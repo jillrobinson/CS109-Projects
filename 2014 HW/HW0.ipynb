{
 "cells": [
  {
   "cell_type": "markdown",
   "metadata": {},
   "source": [
    "# Homework 0\n",
    "## Python Libraries\n",
    "\n",
    "We will be using a several different libraries throughout this course. If you've successfully completed the [installation instructions](https://github.com/cs109/content/wiki/Installing-Python), all of the following statements should run."
   ]
  },
  {
   "cell_type": "code",
   "execution_count": 1,
   "metadata": {
    "collapsed": false
   },
   "outputs": [
    {
     "name": "stdout",
     "output_type": "stream",
     "text": [
      "IPython version:       4.2.0 (need at least 1.0)\n",
      "Numpy version:        1.10.4 (need at least 1.7.1)\n",
      "SciPy version:        0.17.1 (need at least 0.12.0)\n",
      "Pandas version:       0.18.1 (need at least 0.11.0)\n",
      "Mapltolib version:     1.5.1 (need at least 1.2.1)\n",
      "Scikit-Learn version: 0.17.1 (need at least 0.13.1)\n",
      "requests version:     2.10.0 (need at least 1.2.3)\n",
      "NetworkX version:       1.11 (need at least 1.7)\n",
      "BeautifulSoup version: 4.4.1 (need at least 4.0)\n",
      "Mr Job version:        0.5.2 (need at least 0.4)\n",
      "Pattern version:         2.6 (need at least 2.6)\n",
      "Seaborn version:       0.6.0 (need at least 0.3.1)\n"
     ]
    },
    {
     "name": "stderr",
     "output_type": "stream",
     "text": [
      "/Users/jillianrobinson/Applications/anaconda/lib/python2.7/site-packages/matplotlib/__init__.py:872: UserWarning: axes.color_cycle is deprecated and replaced with axes.prop_cycle; please use the latter.\n",
      "  warnings.warn(self.msg_depr % (key, alt_key))\n"
     ]
    }
   ],
   "source": [
    "#IPython is what you are using now to run the notebook\n",
    "import IPython\n",
    "print \"IPython version:      %6.6s (need at least 1.0)\" % IPython.__version__\n",
    "\n",
    "# Numpy is a library for working with Arrays\n",
    "import numpy as np\n",
    "print \"Numpy version:        %6.6s (need at least 1.7.1)\" % np.__version__\n",
    "\n",
    "# SciPy implements many different numerical algorithms\n",
    "import scipy as sp\n",
    "print \"SciPy version:        %6.6s (need at least 0.12.0)\" % sp.__version__\n",
    "\n",
    "# Pandas makes working with data tables easier\n",
    "import pandas as pd\n",
    "print \"Pandas version:       %6.6s (need at least 0.11.0)\" % pd.__version__\n",
    "\n",
    "# Module for plotting\n",
    "import matplotlib\n",
    "print \"Mapltolib version:    %6.6s (need at least 1.2.1)\" % matplotlib.__version__\n",
    "\n",
    "# SciKit Learn implements several Machine Learning algorithms\n",
    "import sklearn\n",
    "print \"Scikit-Learn version: %6.6s (need at least 0.13.1)\" % sklearn.__version__\n",
    "\n",
    "# Requests is a library for getting data from the Web\n",
    "import requests\n",
    "print \"requests version:     %6.6s (need at least 1.2.3)\" % requests.__version__\n",
    "\n",
    "# Networkx is a library for working with networks\n",
    "import networkx as nx\n",
    "print \"NetworkX version:     %6.6s (need at least 1.7)\" % nx.__version__\n",
    "\n",
    "#BeautifulSoup is a library to parse HTML and XML documents\n",
    "import bs4\n",
    "print \"BeautifulSoup version:%6.6s (need at least 4.0)\" % bs4.__version__\n",
    "\n",
    "#MrJob is a library to run map reduce jobs on Amazon's computers\n",
    "import mrjob\n",
    "print \"Mr Job version:       %6.6s (need at least 0.4)\" % mrjob.__version__\n",
    "\n",
    "#Pattern has lots of tools for working with data from the internet\n",
    "import pattern\n",
    "print \"Pattern version:      %6.6s (need at least 2.6)\" % pattern.__version__\n",
    "\n",
    "#Seaborn is a nice library for visualizations\n",
    "import seaborn\n",
    "print \"Seaborn version:      %6.6s (need at least 0.3.1)\" % seaborn.__version__"
   ]
  },
  {
   "cell_type": "markdown",
   "metadata": {},
   "source": [
    "If any of these libraries are missing or out of date, you will need to [install them](https://github.com/cs109/content/wiki/Installing-Python#installing-additional-libraries) and restart IPython"
   ]
  },
  {
   "cell_type": "markdown",
   "metadata": {},
   "source": [
    "## Hello matplotlib"
   ]
  },
  {
   "cell_type": "markdown",
   "metadata": {},
   "source": [
    "The notebook integrates nicely with Matplotlib, the primary plotting package for python. This should embed a figure of a sine wave:"
   ]
  },
  {
   "cell_type": "code",
   "execution_count": 2,
   "metadata": {
    "collapsed": false
   },
   "outputs": [
    {
     "data": {
      "text/plain": [
       "<matplotlib.text.Text at 0x117c0e410>"
      ]
     },
     "execution_count": 2,
     "metadata": {},
     "output_type": "execute_result"
    },
    {
     "data": {
      "image/png": "[encoded data removed]",
      "text/plain": [
       "<matplotlib.figure.Figure at 0x103f0e610>"
      ]
     },
     "metadata": {},
     "output_type": "display_data"
    }
   ],
   "source": [
    "#this line prepares IPython for working with matplotlib\n",
    "%matplotlib inline  \n",
    "\n",
    "# this actually imports matplotlib\n",
    "import matplotlib.pyplot as plt  \n",
    "\n",
    "x = np.linspace(0, 10, 30)  #array of 30 points from 0 to 10\n",
    "y = np.sin(x)\n",
    "z = y + np.random.normal(size=30) * .2\n",
    "plt.plot(x, y, 'ro-', label = 'A sine wave')\n",
    "plt.plot(x, z, 'b-', label = 'Noisy sine')\n",
    "plt.legend(loc = 'lower right')\n",
    "plt.xlabel(\"X axis\")\n",
    "plt.ylabel(\"Y axis\")           "
   ]
  },
  {
   "cell_type": "markdown",
   "metadata": {},
   "source": [
    "If that last cell complained about the `%matplotlib` line, you need to update IPython to v1.0, and restart the notebook. See the [installation page](https://github.com/cs109/content/wiki/Installing-Python)"
   ]
  },
  {
   "cell_type": "markdown",
   "metadata": {},
   "source": [
    "## Hello Numpy\n",
    "\n",
    "The Numpy array processing library is the basis of nearly all numerical computing in Python. Here's a 30 second crash course. For more details, consult Chapter 4 of Python for Data Analysis, or the [Numpy User's Guide](http://docs.scipy.org/doc/numpy-dev/user/index.html)"
   ]
  },
  {
   "cell_type": "code",
   "execution_count": 3,
   "metadata": {
    "collapsed": false
   },
   "outputs": [
    {
     "name": "stdout",
     "output_type": "stream",
     "text": [
      "Make a 3 row x 4 column array of random numbers\n",
      "[[ 0.3155501   0.89643837  0.29888819  0.30441181]\n",
      " [ 0.72672729  0.46553705  0.98616845  0.56784997]\n",
      " [ 0.38781944  0.06322942  0.34942952  0.78785879]]\n",
      "\n",
      "Add 1 to every element\n",
      "[[ 1.3155501   1.89643837  1.29888819  1.30441181]\n",
      " [ 1.72672729  1.46553705  1.98616845  1.56784997]\n",
      " [ 1.38781944  1.06322942  1.34942952  1.78785879]]\n",
      "\n",
      "Get the element at row 1, column 2\n",
      "1.98616845354\n",
      "\n",
      "Get the first row\n",
      "[ 1.3155501   1.89643837  1.29888819  1.30441181]\n",
      "\n",
      "Get every 2nd column of the first row\n",
      "[ 1.3155501   1.29888819]\n",
      "\n"
     ]
    }
   ],
   "source": [
    "print \"Make a 3 row x 4 column array of random numbers\"\n",
    "x = np.random.random((3, 4))\n",
    "print x\n",
    "print\n",
    "\n",
    "print \"Add 1 to every element\"\n",
    "x = x + 1\n",
    "print x\n",
    "print\n",
    "\n",
    "print \"Get the element at row 1, column 2\"\n",
    "print x[1, 2]\n",
    "print\n",
    "\n",
    "# The colon syntax is called \"slicing\" the array. \n",
    "print \"Get the first row\"\n",
    "print x[0, :]\n",
    "print\n",
    "\n",
    "print \"Get every 2nd column of the first row\"\n",
    "print x[0, ::2]\n",
    "print"
   ]
  },
  {
   "cell_type": "markdown",
   "metadata": {},
   "source": [
    "Print the maximum, minimum, and mean of the array. This does **not** require writing a loop. In the code cell below, type `x.m<TAB>`, to find built-in operations for common array statistics like this"
   ]
  },
  {
   "cell_type": "code",
   "execution_count": 4,
   "metadata": {
    "collapsed": false
   },
   "outputs": [
    {
     "name": "stdout",
     "output_type": "stream",
     "text": [
      "Maximum of array is: 1.98616845354\n",
      "Minimum of array is: 1.06322942405\n",
      "Mean of array is: 1.51249236842\n"
     ]
    }
   ],
   "source": [
    "#your code here\n",
    "print \"Maximum of array is: %s\" % x.max()\n",
    "print \"Minimum of array is: %s\" % x.min()\n",
    "print \"Mean of array is: %s\" % x.mean()"
   ]
  },
  {
   "cell_type": "markdown",
   "metadata": {},
   "source": [
    "Call the `x.max` function again, but use the `axis` keyword to print the maximum of each row in x."
   ]
  },
  {
   "cell_type": "code",
   "execution_count": 5,
   "metadata": {
    "collapsed": false
   },
   "outputs": [
    {
     "name": "stdout",
     "output_type": "stream",
     "text": [
      "[ 1.45382212  1.68657069  1.39708429]\n"
     ]
    }
   ],
   "source": [
    "#your code here\n",
    "print x.mean(axis = 1)"
   ]
  },
  {
   "cell_type": "markdown",
   "metadata": {},
   "source": [
    "Here's a way to quickly simulate 500 coin \"fair\" coin tosses (where the probabily of getting Heads is 50%, or 0.5)"
   ]
  },
  {
   "cell_type": "code",
   "execution_count": 6,
   "metadata": {
    "collapsed": false
   },
   "outputs": [
    {
     "name": "stdout",
     "output_type": "stream",
     "text": [
      "number of heads: 256\n"
     ]
    }
   ],
   "source": [
    "x = np.random.binomial(500, .5)\n",
    "print \"number of heads:\", x"
   ]
  },
  {
   "cell_type": "markdown",
   "metadata": {},
   "source": [
    "Repeat this simulation 500 times, and use the [plt.hist() function](http://matplotlib.org/api/pyplot_api.html#matplotlib.pyplot.hist) to plot a histogram of the number of Heads (1s) in each simulation"
   ]
  },
  {
   "cell_type": "code",
   "execution_count": 7,
   "metadata": {
    "collapsed": false
   },
   "outputs": [
    {
     "data": {
      "text/plain": [
       "(array([   5.,    5.,   31.,   53.,   95.,  132.,  104.,   47.,   20.,    8.]),\n",
       " array([ 213. ,  219.9,  226.8,  233.7,  240.6,  247.5,  254.4,  261.3,\n",
       "         268.2,  275.1,  282. ]),\n",
       " <a list of 10 Patch objects>)"
      ]
     },
     "execution_count": 7,
     "metadata": {},
     "output_type": "execute_result"
    },
    {
     "data": {
      "image/png": "[encoded data removed]",
      "text/plain": [
       "<matplotlib.figure.Figure at 0x103f00b50>"
      ]
     },
     "metadata": {},
     "output_type": "display_data"
    }
   ],
   "source": [
    "#your code here\n",
    "heads = [np.random.binomial(500, .5) for i in range(500)]\n",
    "plt.hist(heads)"
   ]
  },
  {
   "cell_type": "markdown",
   "metadata": {},
   "source": [
    "## The Monty Hall Problem\n",
    "\n",
    "\n",
    "Here's a fun and perhaps surprising statistical riddle, and a good way to get some practice writing python functions\n",
    "\n",
    "In a gameshow, contestants try to guess which of 3 closed doors contain a cash prize (goats are behind the other two doors). Of course, the odds of choosing the correct door are 1 in 3. As a twist, the host of the show occasionally opens a door after a contestant makes his or her choice. This door is always one of the two the contestant did not pick, and is also always one of the goat doors (note that it is always possible to do this, since there are two goat doors). At this point, the contestant has the option of keeping his or her original choice, or swtiching to the other unopened door. The question is: is there any benefit to switching doors? The answer surprises many people who haven't heard the question before.\n",
    "\n",
    "We can answer the problem by running simulations in Python. We'll do it in several parts.\n",
    "\n",
    "First, write a function called `simulate_prizedoor`. This function will simulate the location of the prize in many games -- see the detailed specification below:"
   ]
  },
  {
   "cell_type": "code",
   "execution_count": 8,
   "metadata": {
    "collapsed": false
   },
   "outputs": [
    {
     "name": "stdout",
     "output_type": "stream",
     "text": [
      "[2, 2, 0, 0, 2, 2, 2, 1, 1, 0, 1, 1, 1, 2, 1, 0, 1, 2, 1, 1, 0, 2, 2, 2, 0, 2, 1, 2, 0, 0, 2, 0, 1, 0, 2, 0, 1, 1, 0, 2, 0, 2, 0, 1, 1, 2, 0, 2, 2, 1]\n"
     ]
    }
   ],
   "source": [
    "\"\"\"\n",
    "Function\n",
    "--------\n",
    "simulate_prizedoor\n",
    "\n",
    "Generate a random array of 0s, 1s, and 2s, representing\n",
    "hiding a prize between door 0, door 1, and door 2\n",
    "\n",
    "Parameters\n",
    "----------\n",
    "nsim : int\n",
    "    The number of simulations to run\n",
    "\n",
    "Returns\n",
    "-------\n",
    "sims : array\n",
    "    Random array of 0s, 1s, and 2s\n",
    "\n",
    "Example\n",
    "-------\n",
    ">>> print simulate_prizedoor(3)\n",
    "array([0, 0, 2])\n",
    "\"\"\"\n",
    "\n",
    "def simulate_prizedoor(nsim):\n",
    "    #compute here\n",
    "    answer = [np.random.randint(3) for i in range(nsim)] \n",
    "    return answer\n",
    "\n",
    "#your code here\n",
    "print simulate_prizedoor(50)"
   ]
  },
  {
   "cell_type": "markdown",
   "metadata": {},
   "source": [
    "Next, write a function that simulates the contestant's guesses for `nsim` simulations. Call this function `simulate_guess`. The specs:"
   ]
  },
  {
   "cell_type": "code",
   "execution_count": 9,
   "metadata": {
    "collapsed": false
   },
   "outputs": [
    {
     "name": "stdout",
     "output_type": "stream",
     "text": [
      "[1, 1, 1, 1, 1, 1, 1, 1, 1, 1, 1, 1, 1, 1, 1, 1, 1, 1, 1, 1, 1, 1, 1, 1, 1, 1, 1, 1, 1, 1, 1, 1, 1, 1, 1, 1, 1, 1, 1, 1, 1, 1, 1, 1, 1, 1, 1, 1, 1, 1]\n"
     ]
    }
   ],
   "source": [
    "\"\"\"\n",
    "Function\n",
    "--------\n",
    "simulate_guess\n",
    "\n",
    "Return any strategy for guessing which door a prize is behind. This\n",
    "could be a random strategy, one that always guesses 2, whatever.\n",
    "\n",
    "Parameters\n",
    "----------\n",
    "nsim : int\n",
    "    The number of simulations to generate guesses for\n",
    "\n",
    "Returns\n",
    "-------\n",
    "guesses : array\n",
    "    An array of guesses. Each guess is a 0, 1, or 2\n",
    "\n",
    "Example\n",
    "-------\n",
    ">>> print simulate_guess(5)\n",
    "array([0, 0, 0, 0, 0])\n",
    "\"\"\"\n",
    "\n",
    "#your code here\n",
    "def simulate_guess(nsim):\n",
    "    guess = [1 for i in range(nsim)] #contestant always guesses 1\n",
    "    return guess\n",
    "\n",
    "print simulate_guess(50)"
   ]
  },
  {
   "cell_type": "markdown",
   "metadata": {},
   "source": [
    "Next, write a function, `goat_door`, to simulate randomly revealing one of the goat doors that a contestant didn't pick."
   ]
  },
  {
   "cell_type": "code",
   "execution_count": 10,
   "metadata": {
    "collapsed": false
   },
   "outputs": [
    {
     "name": "stdout",
     "output_type": "stream",
     "text": [
      "    Prize doors  Guesses  Goat doors\n",
      "0             2        1           0\n",
      "1             1        1           0\n",
      "2             0        1           2\n",
      "3             2        1           0\n",
      "4             2        1           0\n",
      "5             1        1           2\n",
      "6             0        1           2\n",
      "7             2        1           0\n",
      "8             1        1           2\n",
      "9             0        1           2\n",
      "10            1        1           0\n",
      "11            1        1           2\n",
      "12            2        1           0\n",
      "13            0        1           2\n",
      "14            2        1           0\n",
      "15            0        1           2\n",
      "16            0        1           2\n",
      "17            1        1           2\n",
      "18            2        1           0\n",
      "19            2        1           0\n"
     ]
    }
   ],
   "source": [
    "\"\"\"\n",
    "Function\n",
    "--------\n",
    "goat_door\n",
    "\n",
    "Simulate the opening of a \"goat door\" that doesn't contain the prize,\n",
    "and is different from the contestants guess\n",
    "\n",
    "Parameters\n",
    "----------\n",
    "prizedoors : array\n",
    "    The door that the prize is behind in each simulation\n",
    "guesses : array\n",
    "    The door that the contestant guessed in each simulation\n",
    "\n",
    "Returns\n",
    "-------\n",
    "goats : array\n",
    "    The goat door that is opened for each simulation. Each item is 0, 1, or 2, and is different\n",
    "    from both prizedoors and guesses\n",
    "\n",
    "Examples\n",
    "--------\n",
    ">>> print goat_door(np.array([0, 1, 2]), np.array([1, 1, 1]))\n",
    ">>> array([2, 2, 0])\n",
    "\"\"\"\n",
    "\n",
    "#your code here\n",
    "def goat_door(prizedoors, guesses):\n",
    "    goat = [np.random.randint(3) for i in range(len(prizedoors))] \n",
    "    for i in range(len(prizedoors)):\n",
    "        while goat[i] == prizedoors[i] or goat[i] == guesses[i]:\n",
    "            goat[i] = np.random.randint(3)\n",
    "    return goat\n",
    "\n",
    "pds = simulate_prizedoor(50)\n",
    "guesses = simulate_guess(50)\n",
    "goats = goat_door(pds, guesses)\n",
    "\n",
    "table = pd.DataFrame(zip(pds, guesses, goats), columns = [\"Prize doors\", \"Guesses\", \"Goat doors\"])\n",
    "print table.head(20)"
   ]
  },
  {
   "cell_type": "markdown",
   "metadata": {},
   "source": [
    "Write a function, `switch_guess`, that represents the strategy of always switching a guess after the goat door is opened."
   ]
  },
  {
   "cell_type": "code",
   "execution_count": 11,
   "metadata": {
    "collapsed": false
   },
   "outputs": [
    {
     "name": "stdout",
     "output_type": "stream",
     "text": [
      "    Prize doors  Guesses  Goat doors  Switched guess\n",
      "0             2        1           0               2\n",
      "1             1        1           0               2\n",
      "2             0        1           2               0\n",
      "3             2        1           0               2\n",
      "4             2        1           0               2\n",
      "5             1        1           2               0\n",
      "6             0        1           2               0\n",
      "7             2        1           0               2\n",
      "8             1        1           2               0\n",
      "9             0        1           2               0\n",
      "10            1        1           0               2\n",
      "11            1        1           2               0\n",
      "12            2        1           0               2\n",
      "13            0        1           2               0\n",
      "14            2        1           0               2\n",
      "15            0        1           2               0\n",
      "16            0        1           2               0\n",
      "17            1        1           2               0\n",
      "18            2        1           0               2\n",
      "19            2        1           0               2\n"
     ]
    }
   ],
   "source": [
    "\"\"\"\n",
    "Function\n",
    "--------\n",
    "switch_guess\n",
    "\n",
    "The strategy that always switches a guess after the goat door is opened\n",
    "\n",
    "Parameters\n",
    "----------\n",
    "guesses : array\n",
    "     Array of original guesses, for each simulation\n",
    "goatdoors : array\n",
    "     Array of revealed goat doors for each simulation\n",
    "\n",
    "Returns\n",
    "-------\n",
    "The new door after switching. Should be different from both guesses and goatdoors\n",
    "\n",
    "Examples\n",
    "--------\n",
    ">>> print switch_guess(np.array([0, 1, 2]), np.array([1, 2, 1]))\n",
    ">>> array([2, 0, 0])\n",
    "\"\"\"\n",
    "\n",
    "#your code here\n",
    "def switch_guess(guesses, goats):\n",
    "    new_guess = [np.random.randint(3) for i in range(len(guesses))] \n",
    "    for i in range(len(guesses)):\n",
    "        while new_guess[i] == guesses[i] or new_guess[i] == goats[i]:\n",
    "            new_guess[i] = np.random.randint(3)\n",
    "    return new_guess\n",
    "\n",
    "newguess = switch_guess(guesses, goats)\n",
    "\n",
    "new_table = pd.DataFrame(zip(pds, guesses, goats, newguess), \n",
    "                         columns = [\"Prize doors\", \"Guesses\", \"Goat doors\", \"Switched guess\"])\n",
    "print new_table.head(20)"
   ]
  },
  {
   "cell_type": "markdown",
   "metadata": {},
   "source": [
    "Last function: write a `win_percentage` function that takes an array of `guesses` and `prizedoors`, and returns the percent of correct guesses"
   ]
  },
  {
   "cell_type": "code",
   "execution_count": 12,
   "metadata": {
    "collapsed": false
   },
   "outputs": [
    {
     "name": "stdout",
     "output_type": "stream",
     "text": [
      "0.3\n"
     ]
    }
   ],
   "source": [
    "\"\"\"\n",
    "Function\n",
    "--------\n",
    "win_percentage\n",
    "\n",
    "Calculate the percent of times that a simulation of guesses is correct\n",
    "\n",
    "Parameters\n",
    "-----------\n",
    "guesses : array\n",
    "    Guesses for each simulation\n",
    "prizedoors : array\n",
    "    Location of prize for each simulation\n",
    "\n",
    "Returns\n",
    "--------\n",
    "percentage : number between 0 and 100\n",
    "    The win percentage\n",
    "\n",
    "Examples\n",
    "---------\n",
    ">>> print win_percentage(np.array([0, 1, 2]), np.array([0, 0, 0]))\n",
    "33.333\n",
    "\"\"\"\n",
    "\n",
    "#your code here\n",
    "def win_percentage(guesses, prizedoors):\n",
    "    wins = [prizedoors[i] == guesses[i] for i in range(len(prizedoors))]\n",
    "    win_perc = float(sum(wins)) / len(wins)\n",
    "    return win_perc\n",
    "\n",
    "print win_percentage(guesses, pds)"
   ]
  },
  {
   "cell_type": "markdown",
   "metadata": {},
   "source": [
    "Now, put it together. Simulate 10000 games where contestant keeps his original guess, and 10000 games where the contestant switches his door after a  goat door is revealed. Compute the percentage of time the contestant wins under either strategy. Is one strategy better than the other?"
   ]
  },
  {
   "cell_type": "code",
   "execution_count": 13,
   "metadata": {
    "collapsed": false
   },
   "outputs": [
    {
     "name": "stdout",
     "output_type": "stream",
     "text": [
      "Keeping the contestant's original guess, the win percentage is:    0.3302\n",
      "Switching the contestant's original guess, the win percentage is:    0.6736\n"
     ]
    }
   ],
   "source": [
    "#your code here\n",
    "\n",
    "#keep original guess\n",
    "pds = simulate_prizedoor(10000)\n",
    "guesses = simulate_guess(10000)\n",
    "print \"Keeping the contestant's original guess,\", \n",
    "print \"the win percentage is:    %s\" % win_percentage(guesses, pds)\n",
    "\n",
    "#switch guess\n",
    "pds = simulate_prizedoor(10000)\n",
    "guesses = simulate_guess(10000)\n",
    "goats = goat_door(pds, guesses)\n",
    "newguess = switch_guess(guesses, goats)\n",
    "print \"Switching the contestant's original guess,\", \n",
    "print \"the win percentage is:    %s\" % win_percentage(newguess, pds)"
   ]
  },
  {
   "cell_type": "markdown",
   "metadata": {},
   "source": [
    "Many people find this answer counter-intuitive (famously, PhD mathematicians have incorrectly claimed the result must be wrong. Clearly, none of them knew Python). \n",
    "\n",
    "One of the best ways to build intuition about why opening a Goat door affects the odds is to re-run the experiment with 100 doors and one prize. If the game show host opens 98 goat doors after you make your initial selection, would you want to keep your first pick or switch? Can you generalize your simulation code to handle the case of `n` doors?"
   ]
  },
  {
   "cell_type": "code",
   "execution_count": 14,
   "metadata": {
    "collapsed": false
   },
   "outputs": [
    {
     "name": "stdout",
     "output_type": "stream",
     "text": [
      "Keeping the contestant's original guess, the win percentage is:    0.0095\n",
      "Switching the contestant's original guess, the win percentage is:    0.9904\n"
     ]
    }
   ],
   "source": [
    "ndoors = 100\n",
    "\n",
    "def simulate_prizedoor(nsim):\n",
    "    answer = [np.random.randint(ndoors) for i in range(nsim)] \n",
    "    return answer\n",
    "\n",
    "def simulate_guess(nsim):\n",
    "    guess = [np.random.randint(ndoors) for i in range(nsim)] # contestant randomly guesses a door\n",
    "    return guess\n",
    "\n",
    "def goat_door(prizedoors, guesses):\n",
    "    goat_doors = []\n",
    "    for i in range(len(prizedoors)):\n",
    "        doors = []\n",
    "        for j in range(ndoors):\n",
    "            if j != prizedoors[i] and j != guesses[i]:\n",
    "                doors.append(j)\n",
    "        if len(doors) > ndoors - 2:\n",
    "            del doors[np.random.randint(ndoors - 1)]\n",
    "        goat_doors.append(doors)\n",
    "    return goat_doors\n",
    "\n",
    "def switch_guess(guesses, goats):\n",
    "    new_guess = [np.random.randint(ndoors) for i in range(len(guesses))] \n",
    "    for i in range(len(guesses)):\n",
    "        while new_guess[i] == guesses[i] or new_guess[i] in goats[i]:\n",
    "            new_guess[i] = np.random.randint(ndoors)\n",
    "    return new_guess\n",
    "\n",
    "def win_percentage(guesses, prizedoors):\n",
    "    wins = [prizedoors[i] == guesses[i] for i in range(len(prizedoors))]\n",
    "    win_perc = float(sum(wins)) / len(wins)\n",
    "    return win_perc\n",
    "\n",
    "#keep original guess\n",
    "pds = simulate_prizedoor(10000)\n",
    "guesses = simulate_guess(10000)\n",
    "print \"Keeping the contestant's original guess,\", \n",
    "print \"the win percentage is:    %s\" % win_percentage(guesses, pds)\n",
    "\n",
    "#switch guess\n",
    "pds = simulate_prizedoor(10000)\n",
    "guesses = simulate_guess(10000)\n",
    "goats = goat_door(pds, guesses)\n",
    "newguess = switch_guess(guesses, goats)\n",
    "print \"Switching the contestant's original guess,\", \n",
    "print \"the win percentage is:    %s\" % win_percentage(newguess, pds)"
   ]
  },
  {
   "cell_type": "code",
   "execution_count": null,
   "metadata": {
    "collapsed": true
   },
   "outputs": [],
   "source": []
  }
 ],
 "metadata": {
  "kernelspec": {
   "display_name": "Python 2",
   "language": "python",
   "name": "python2"
  },
  "language_info": {
   "codemirror_mode": {
    "name": "ipython",
    "version": 2
   },
   "file_extension": ".py",
   "mimetype": "text/x-python",
   "name": "python",
   "nbconvert_exporter": "python",
   "pygments_lexer": "ipython2",
   "version": "2.7.11"
  }
 },
 "nbformat": 4,
 "nbformat_minor": 0
}
